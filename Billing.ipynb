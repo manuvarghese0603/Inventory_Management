{
 "cells": [
  {
   "cell_type": "code",
   "execution_count": 13,
   "id": "42875531",
   "metadata": {},
   "outputs": [],
   "source": [
    "import datetime\n",
    "import json \n",
    "fd = open(\"Inventory.json\",'r')\n",
    "txt = fd.read()\n",
    "fd.close()\n",
    "record = json.loads(txt)"
   ]
  },
  {
   "cell_type": "code",
   "execution_count": 14,
   "id": "0fcc838f",
   "metadata": {},
   "outputs": [
    {
     "data": {
      "text/plain": [
       "dict_keys(['1001', '1002', '1003', '1004', '1005', '1006', '1007', '1008', '1009', '1010', '1011', '1012', '1013', '1014', '1015', '1016', '1017', '1018', '1019', '1020', '1021', '1022', '1023', '1024', '1025', '1026', '1027', '1028', '1029', '1030', '1031'])"
      ]
     },
     "execution_count": 14,
     "metadata": {},
     "output_type": "execute_result"
    }
   ],
   "source": [
    "record.keys()"
   ]
  },
  {
   "cell_type": "code",
   "execution_count": 15,
   "id": "22de69cf",
   "metadata": {},
   "outputs": [
    {
     "name": "stdout",
     "output_type": "stream",
     "text": [
      "Enter item code 1003\n",
      "Enter quantity 1\n",
      "Total cost of the product:  81\n",
      "Enter 1 to input more product or 0 to print bill1\n",
      "Enter item code 1004\n",
      "Enter quantity 1\n",
      "Total cost of the product:  102\n",
      "Enter 1 to input more product or 0 to print bill0\n",
      "Enter your name Yamal\n",
      "Enter age24\n",
      "Payment mode ? Cheque \n",
      "********************\n",
      "Name:  Yamal\n",
      "Total billing amount =  183\n",
      "Payment mode:  Cheque \n",
      "Date:  6-9-2021\n",
      "Time:  20:57 hrs\n",
      "********************\n"
     ]
    }
   ],
   "source": [
    "total = 0\n",
    "flag = 1\n",
    "while flag:\n",
    "    code = input(\"Enter item code \")\n",
    "    quantity = int(input(\"Enter quantity \"))\n",
    "    if (record[code]['Quantity'] >= quantity):\n",
    "        print(\"Total cost of the product: \",(record[code]['Price'] - record[code]['Discount'] + record[code]['Tax']) * quantity)\n",
    "        total += (record[code]['Price'] - record[code]['Discount'] + record[code]['Tax']) * (quantity)\n",
    "        record[code]['Quantity'] -= quantity\n",
    "    else:\n",
    "        print(\"Requested quantity not available\")\n",
    "    flag = int(input(\"Enter 1 to input more product or 0 to print bill\"))\n",
    "Name = input(\"Enter your name \")\n",
    "Age = int(input(\"Enter age\"))\n",
    "payment_mode = input(\"Payment mode ? \")\n",
    "\n",
    "\n",
    "#Calculate date and time\n",
    "date = str(datetime.datetime.now().day)+\"-\"+str(datetime.datetime.now().month)+\"-\"+str(datetime.datetime.now().year)\n",
    "time = str(datetime.datetime.now().hour)+\":\"+str(datetime.datetime.now().minute)\n",
    "\n",
    "\n",
    "print(\"********************\")\n",
    "print(\"Name: \",Name)\n",
    "print(\"Total billing amount = \",total)\n",
    "print(\"Payment mode: \",payment_mode)\n",
    "date = str(datetime.datetime.now().day)+\"-\"+str(datetime.datetime.now().month)+\"-\"+str(datetime.datetime.now().year)\n",
    "time = str(datetime.datetime.now().hour)+\":\"+str(datetime.datetime.now().minute)\n",
    "print(\"Date: \",date)\n",
    "print(\"Time: \",time,\"hrs\")\n",
    "print(\"********************\")"
   ]
  },
  {
   "cell_type": "code",
   "execution_count": 16,
   "id": "fc9af200",
   "metadata": {},
   "outputs": [],
   "source": [
    "# Update the inventory file\n",
    "\n",
    "text = json.dumps(record)\n",
    "fd = open(\"inventory.json\",'w')\n",
    "fd.write(text)\n",
    "fd.close()"
   ]
  },
  {
   "cell_type": "code",
   "execution_count": 17,
   "id": "3c15024c",
   "metadata": {},
   "outputs": [
    {
     "name": "stdout",
     "output_type": "stream",
     "text": [
      "113\n"
     ]
    }
   ],
   "source": [
    "# To get the next uid of sales file\n",
    "\n",
    "ft = open(\"sales.json\",'r')\n",
    "temp = ft.read()\n",
    "ft.close()\n",
    "sales = json.loads(temp)\n",
    "keylst = list(sales.keys())\n",
    "sid = int(keylst[-1]) + 1\n",
    "print(sid)"
   ]
  },
  {
   "cell_type": "code",
   "execution_count": 18,
   "id": "620a3298",
   "metadata": {},
   "outputs": [],
   "source": [
    "# Declare sales dict \n",
    "\n",
    "sales.update({sid:{'Name':Name,\"Age\":Age,\"Total\":total,\"Date\":date,\n",
    "                   \"Time\":time,\"Payment Mode\": payment_mode}})"
   ]
  },
  {
   "cell_type": "code",
   "execution_count": 19,
   "id": "f316fc5d",
   "metadata": {},
   "outputs": [],
   "source": [
    "#store it in sales.json\n",
    "\n",
    "txt = json.dumps(sales)\n",
    "fs = open(\"sales.json\",'w')\n",
    "fs.write(txt)\n",
    "fs.close()"
   ]
  }
 ],
 "metadata": {
  "kernelspec": {
   "display_name": "Python 3",
   "language": "python",
   "name": "python3"
  },
  "language_info": {
   "codemirror_mode": {
    "name": "ipython",
    "version": 3
   },
   "file_extension": ".py",
   "mimetype": "text/x-python",
   "name": "python",
   "nbconvert_exporter": "python",
   "pygments_lexer": "ipython3",
   "version": "3.8.8"
  }
 },
 "nbformat": 4,
 "nbformat_minor": 5
}
