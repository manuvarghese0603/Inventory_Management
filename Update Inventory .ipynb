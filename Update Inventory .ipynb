{
 "cells": [
  {
   "cell_type": "markdown",
   "id": "a95d00e8",
   "metadata": {},
   "source": [
    "# Updating Inventory with fresh stocks\n"
   ]
  },
  {
   "cell_type": "code",
   "execution_count": 6,
   "id": "8c5c343b",
   "metadata": {},
   "outputs": [],
   "source": [
    "import json\n",
    "fd = open(\"Inventory.json\",'r')\n",
    "txt = fd.read()\n",
    "fd.close()\n",
    "record = json.loads(txt)"
   ]
  },
  {
   "cell_type": "code",
   "execution_count": 7,
   "id": "74ea9e84",
   "metadata": {},
   "outputs": [
    {
     "name": "stdout",
     "output_type": "stream",
     "text": [
      "Enter item code 1003\n",
      "Enter quantity 3\n",
      "Updated quantity:  203\n",
      "Enter 1 to input more product or 0 to exit 0\n"
     ]
    }
   ],
   "source": [
    "flag = 1\n",
    "while flag:\n",
    "    code = input(\"Enter item code \")\n",
    "    quantity = int(input(\"Enter quantity \"))\n",
    "    record[code]['Quantity'] += quantity\n",
    "    print(\"Updated quantity: \",record[code]['Quantity'])\n",
    "    flag = int(input(\"Enter 1 to input more product or 0 to exit \"))"
   ]
  },
  {
   "cell_type": "code",
   "execution_count": 5,
   "id": "9eac07f5",
   "metadata": {},
   "outputs": [],
   "source": [
    "txt = json.dumps(record)\n",
    "fd = open(\"Inventory.json\",'w')\n",
    "fd.write(txt)\n",
    "fd.close()"
   ]
  }
 ],
 "metadata": {
  "kernelspec": {
   "display_name": "Python 3",
   "language": "python",
   "name": "python3"
  },
  "language_info": {
   "codemirror_mode": {
    "name": "ipython",
    "version": 3
   },
   "file_extension": ".py",
   "mimetype": "text/x-python",
   "name": "python",
   "nbconvert_exporter": "python",
   "pygments_lexer": "ipython3",
   "version": "3.8.8"
  }
 },
 "nbformat": 4,
 "nbformat_minor": 5
}
