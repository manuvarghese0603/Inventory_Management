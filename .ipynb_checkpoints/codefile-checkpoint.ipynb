{
 "cells": [
  {
   "cell_type": "markdown",
   "id": "a7f024ef",
   "metadata": {},
   "source": [
    "## Recording the inventory\n"
   ]
  },
  {
   "cell_type": "code",
   "execution_count": 15,
   "id": "564be0c6",
   "metadata": {},
   "outputs": [],
   "source": [
    "record.update({1003: {\"Name\": \"Sugar\",\"Price\": 80, \"Quantity\": 200, \"Weight\": 2000, \"Tax\": 10, \"Discount\": 9 }})"
   ]
  },
  {
   "cell_type": "code",
   "execution_count": 21,
   "id": "ab7a15cb",
   "metadata": {},
   "outputs": [],
   "source": [
    "import json"
   ]
  },
  {
   "cell_type": "code",
   "execution_count": 22,
   "id": "dd33e962",
   "metadata": {},
   "outputs": [],
   "source": [
    "txt = json.dumps(record)"
   ]
  },
  {
   "cell_type": "code",
   "execution_count": 23,
   "id": "6ad5129a",
   "metadata": {},
   "outputs": [
    {
     "data": {
      "text/plain": [
       "'{\"1001\": {\"Name\": \"Baking Soda\", \"Price\": 55, \"Quantity\": 23, \"Weight\": 200, \"Tax\": 6, \"Discount\": 4}, \"1002\": {\"Name\": \"Baking powder\", \"Price\": 50, \"Quantity\": 20, \"Weight\": 200, \"Tax\": 5, \"Discount\": 3}, \"1003\": {\"Name\": \"Sugar\", \"Price\": 80, \"Quantity\": 200, \"Weight\": 2000, \"Tax\": 10, \"Discount\": 9}}'"
      ]
     },
     "execution_count": 23,
     "metadata": {},
     "output_type": "execute_result"
    }
   ],
   "source": [
    "txt"
   ]
  },
  {
   "cell_type": "code",
   "execution_count": 24,
   "id": "81c6852d",
   "metadata": {},
   "outputs": [
    {
     "data": {
      "text/plain": [
       "str"
      ]
     },
     "execution_count": 24,
     "metadata": {},
     "output_type": "execute_result"
    }
   ],
   "source": [
    "type(txt)"
   ]
  },
  {
   "cell_type": "code",
   "execution_count": 25,
   "id": "8d0efb1a",
   "metadata": {},
   "outputs": [],
   "source": [
    "fd = open(\"inventory.json\",'w')\n",
    "fd.write(txt)\n",
    "fd.close()"
   ]
  },
  {
   "cell_type": "code",
   "execution_count": 27,
   "id": "b4b8f1d4",
   "metadata": {},
   "outputs": [
    {
     "data": {
      "text/plain": [
       "{1001: {'Name': 'Baking Soda',\n",
       "  'Price': 55,\n",
       "  'Quantity': 23,\n",
       "  'Weight': 200,\n",
       "  'Tax': 6,\n",
       "  'Discount': 4},\n",
       " 1002: {'Name': 'Baking powder',\n",
       "  'Price': 50,\n",
       "  'Quantity': 20,\n",
       "  'Weight': 200,\n",
       "  'Tax': 5,\n",
       "  'Discount': 3},\n",
       " 1003: {'Name': 'Sugar',\n",
       "  'Price': 80,\n",
       "  'Quantity': 200,\n",
       "  'Weight': 2000,\n",
       "  'Tax': 10,\n",
       "  'Discount': 9}}"
      ]
     },
     "execution_count": 27,
     "metadata": {},
     "output_type": "execute_result"
    }
   ],
   "source": [
    "record\n"
   ]
  },
  {
   "cell_type": "code",
   "execution_count": 31,
   "id": "72d56d8a",
   "metadata": {},
   "outputs": [
    {
     "name": "stdout",
     "output_type": "stream",
     "text": [
      "name: Flour\n",
      "Price: 100\n",
      "Quant: 70\n",
      "weight: 15\n",
      "tax: 9\n",
      "Disc: 7\n"
     ]
    }
   ],
   "source": [
    "for i in range(4,5):\n",
    "    Name = input(\"name: \")\n",
    "    Price = int(input(\"Price: \"))\n",
    "    Quantity = int(input(\"Quant: \"))\n",
    "    Weight = int(input(\"weight: \")) \n",
    "    Tax = int(input(\"tax: \")) \n",
    "    Discount = int(input(\"Disc: \"))\n",
    "    record.update({1000+i: {\"Name\": Name,\"Price\": Price, \"Quantity\": Quantity, \"Weight\": Weight, \"Tax\": Tax, \"Discount\": Discount }})\n",
    "    "
   ]
  },
  {
   "cell_type": "code",
   "execution_count": 32,
   "id": "d08f52ba",
   "metadata": {},
   "outputs": [
    {
     "data": {
      "text/plain": [
       "{1001: {'Name': 'Baking Soda',\n",
       "  'Price': 55,\n",
       "  'Quantity': 23,\n",
       "  'Weight': 200,\n",
       "  'Tax': 6,\n",
       "  'Discount': 4},\n",
       " 1002: {'Name': 'Baking powder',\n",
       "  'Price': 50,\n",
       "  'Quantity': 20,\n",
       "  'Weight': 200,\n",
       "  'Tax': 5,\n",
       "  'Discount': 3},\n",
       " 1003: {'Name': 'Sugar',\n",
       "  'Price': 80,\n",
       "  'Quantity': 200,\n",
       "  'Weight': 2000,\n",
       "  'Tax': 10,\n",
       "  'Discount': 9},\n",
       " 1004: {'Name': 'Flour',\n",
       "  'Price': 100,\n",
       "  'Quantity': 70,\n",
       "  'Weight': 15,\n",
       "  'Tax': 9,\n",
       "  'Discount': 7}}"
      ]
     },
     "execution_count": 32,
     "metadata": {},
     "output_type": "execute_result"
    }
   ],
   "source": [
    "record"
   ]
  },
  {
   "cell_type": "code",
   "execution_count": 33,
   "id": "eee61e83",
   "metadata": {},
   "outputs": [
    {
     "name": "stdout",
     "output_type": "stream",
     "text": [
      "name: Honey\n",
      "Price: 200\n",
      "Quant: 7\n",
      "weight: 100\n",
      "tax: 3\n",
      "Disc: 4\n",
      "name: Vanilla\n",
      "Price: 250\n",
      "Quant: 19\n",
      "weight: 750\n",
      "tax: 5\n",
      "Disc: 17\n",
      "name: Dry Yeast\n",
      "Price: 53\n",
      "Quant: 7\n",
      "weight: 70\n",
      "tax: 5\n",
      "Disc: 3\n",
      "name: Chocolate Chips\n",
      "Price: 1000\n",
      "Quant: 69\n",
      "weight: 700\n",
      "tax: 6\n",
      "Disc: 7\n",
      "name: Cocoa Powder\n",
      "Price: 378\n",
      "Quant: 7\n",
      "weight: 500\n",
      "tax: 8\n",
      "Disc: 7\n",
      "name: Butter\n",
      "Price: 150\n",
      "Quant: 50\n",
      "weight: 125\n",
      "tax: 7\n",
      "Disc: 6\n",
      "name: Shredded Cheese\n",
      "Price: 300\n",
      "Quant: 7\n",
      "weight: 80\n",
      "tax: 17\n",
      "Disc: 7\n",
      "name: Milk\n",
      "Price: 50\n",
      "Quant: 70\n",
      "weight: 100\n",
      "tax: 7\n",
      "Disc: 9\n",
      "name: Sour Cream\n",
      "Price: 60\n",
      "Quant: 7\n",
      "weight: 500\n",
      "tax: 9\n",
      "Disc: 11\n",
      "name: Greek Yogurt\n",
      "Price: 80\n",
      "Quant: 13\n",
      "weight: 90\n",
      "tax: 11\n",
      "Disc: 3\n",
      "name: Chicken stock\n",
      "Price: 160\n",
      "Quant: 14\n",
      "weight: 77\n",
      "tax: 9\n",
      "Disc: 0\n",
      "name: Salsa\n",
      "Price: 200\n",
      "Quant: 5\n",
      "weight: 500\n",
      "tax: 10\n",
      "Disc: 9\n",
      "name: Diced Tomatoes\n",
      "Price: 100\n",
      "Quant: 90\n",
      "weight: 124\n",
      "tax: 0\n",
      "Disc: 7\n",
      "name: Jam\n",
      "Price: 80\n",
      "Quant: 40\n",
      "weight: 125\n",
      "tax: 19\n",
      "Disc: 7\n",
      "name: Peanut Butter\n",
      "Price: 400\n",
      "Quant: 40\n",
      "weight: 250\n",
      "tax: 19\n",
      "Disc: 0\n",
      "name: Pasta Sauce\n",
      "Price: 200\n",
      "Quant: 40\n",
      "weight: 780\n",
      "tax: 7\n",
      "Disc: 0\n",
      "name: Black Beans\n",
      "Price: 300\n",
      "Quant: 19\n",
      "weight: 760\n",
      "tax: 6\n",
      "Disc: 0\n",
      "name: Soups\n",
      "Price: 30\n",
      "Quant: 49\n",
      "weight: 50\n",
      "tax: 7\n",
      "Disc: 3\n",
      "name: Tuna\n",
      "Price: 500\n",
      "Quant: 5\n",
      "weight: 30\n",
      "tax: 50\n",
      "Disc: 9\n",
      "name: Green Chiles\n",
      "Price: 40\n",
      "Quant: 50\n",
      "weight: 100\n",
      "tax: 0\n",
      "Disc: 0\n",
      "name: Quick Oats\n",
      "Price: 500\n",
      "Quant: 70\n",
      "weight: 250\n",
      "tax: 20\n",
      "Disc: 7\n",
      "name: Popcorn\n",
      "Price: 100\n",
      "Quant: 50\n",
      "weight: 50\n",
      "tax: 7\n",
      "Disc: 3\n",
      "name: Tortilla Chips\n",
      "Price: 500\n",
      "Quant: 50\n",
      "weight: 900\n",
      "tax: 17\n",
      "Disc: 0\n",
      "name: Cereal\n",
      "Price: 70\n",
      "Quant: 69\n",
      "weight: 50\n",
      "tax: 7\n",
      "Disc: 2\n",
      "name: Coconut Oil\n",
      "Price: 70\n",
      "Quant: 30\n",
      "weight: 1\n",
      "tax: 7\n",
      "Disc: 0\n",
      "name: Olive Oil\n",
      "Price: 700\n",
      "Quant: 40\n",
      "weight: 250\n",
      "tax: 19\n",
      "Disc: 0\n",
      "name: Red Wine Vinegar\n",
      "Price: 1000\n",
      "Quant: 19\n",
      "weight: 200\n",
      "tax: 14\n",
      "Disc: 7\n"
     ]
    }
   ],
   "source": [
    "for i in range(5,32):\n",
    "    Name = input(\"name: \")\n",
    "    Price = int(input(\"Price: \"))\n",
    "    Quantity = int(input(\"Quant: \"))\n",
    "    Weight = int(input(\"weight: \")) \n",
    "    Tax = int(input(\"tax: \")) \n",
    "    Discount = int(input(\"Disc: \"))\n",
    "    record.update({1000+i: {\"Name\": Name,\"Price\": Price, \"Quantity\": Quantity, \"Weight\": Weight, \"Tax\": Tax, \"Discount\": Discount }})\n",
    "    "
   ]
  },
  {
   "cell_type": "code",
   "execution_count": 34,
   "id": "b618fcb4",
   "metadata": {},
   "outputs": [
    {
     "data": {
      "text/plain": [
       "{1001: {'Name': 'Baking Soda',\n",
       "  'Price': 55,\n",
       "  'Quantity': 23,\n",
       "  'Weight': 200,\n",
       "  'Tax': 6,\n",
       "  'Discount': 4},\n",
       " 1002: {'Name': 'Baking powder',\n",
       "  'Price': 50,\n",
       "  'Quantity': 20,\n",
       "  'Weight': 200,\n",
       "  'Tax': 5,\n",
       "  'Discount': 3},\n",
       " 1003: {'Name': 'Sugar',\n",
       "  'Price': 80,\n",
       "  'Quantity': 200,\n",
       "  'Weight': 2000,\n",
       "  'Tax': 10,\n",
       "  'Discount': 9},\n",
       " 1004: {'Name': 'Flour',\n",
       "  'Price': 100,\n",
       "  'Quantity': 70,\n",
       "  'Weight': 15,\n",
       "  'Tax': 9,\n",
       "  'Discount': 7},\n",
       " 1005: {'Name': 'Honey',\n",
       "  'Price': 200,\n",
       "  'Quantity': 7,\n",
       "  'Weight': 100,\n",
       "  'Tax': 3,\n",
       "  'Discount': 4},\n",
       " 1006: {'Name': 'Vanilla',\n",
       "  'Price': 250,\n",
       "  'Quantity': 19,\n",
       "  'Weight': 750,\n",
       "  'Tax': 5,\n",
       "  'Discount': 17},\n",
       " 1007: {'Name': 'Dry Yeast',\n",
       "  'Price': 53,\n",
       "  'Quantity': 7,\n",
       "  'Weight': 70,\n",
       "  'Tax': 5,\n",
       "  'Discount': 3},\n",
       " 1008: {'Name': 'Chocolate Chips',\n",
       "  'Price': 1000,\n",
       "  'Quantity': 69,\n",
       "  'Weight': 700,\n",
       "  'Tax': 6,\n",
       "  'Discount': 7},\n",
       " 1009: {'Name': 'Cocoa Powder',\n",
       "  'Price': 378,\n",
       "  'Quantity': 7,\n",
       "  'Weight': 500,\n",
       "  'Tax': 8,\n",
       "  'Discount': 7},\n",
       " 1010: {'Name': 'Butter',\n",
       "  'Price': 150,\n",
       "  'Quantity': 50,\n",
       "  'Weight': 125,\n",
       "  'Tax': 7,\n",
       "  'Discount': 6},\n",
       " 1011: {'Name': 'Shredded Cheese',\n",
       "  'Price': 300,\n",
       "  'Quantity': 7,\n",
       "  'Weight': 80,\n",
       "  'Tax': 17,\n",
       "  'Discount': 7},\n",
       " 1012: {'Name': 'Milk',\n",
       "  'Price': 50,\n",
       "  'Quantity': 70,\n",
       "  'Weight': 100,\n",
       "  'Tax': 7,\n",
       "  'Discount': 9},\n",
       " 1013: {'Name': 'Sour Cream',\n",
       "  'Price': 60,\n",
       "  'Quantity': 7,\n",
       "  'Weight': 500,\n",
       "  'Tax': 9,\n",
       "  'Discount': 11},\n",
       " 1014: {'Name': 'Greek Yogurt',\n",
       "  'Price': 80,\n",
       "  'Quantity': 13,\n",
       "  'Weight': 90,\n",
       "  'Tax': 11,\n",
       "  'Discount': 3},\n",
       " 1015: {'Name': 'Chicken stock',\n",
       "  'Price': 160,\n",
       "  'Quantity': 14,\n",
       "  'Weight': 77,\n",
       "  'Tax': 9,\n",
       "  'Discount': 0},\n",
       " 1016: {'Name': 'Salsa',\n",
       "  'Price': 200,\n",
       "  'Quantity': 5,\n",
       "  'Weight': 500,\n",
       "  'Tax': 10,\n",
       "  'Discount': 9},\n",
       " 1017: {'Name': 'Diced Tomatoes',\n",
       "  'Price': 100,\n",
       "  'Quantity': 90,\n",
       "  'Weight': 124,\n",
       "  'Tax': 0,\n",
       "  'Discount': 7},\n",
       " 1018: {'Name': 'Jam',\n",
       "  'Price': 80,\n",
       "  'Quantity': 40,\n",
       "  'Weight': 125,\n",
       "  'Tax': 19,\n",
       "  'Discount': 7},\n",
       " 1019: {'Name': 'Peanut Butter',\n",
       "  'Price': 400,\n",
       "  'Quantity': 40,\n",
       "  'Weight': 250,\n",
       "  'Tax': 19,\n",
       "  'Discount': 0},\n",
       " 1020: {'Name': 'Pasta Sauce',\n",
       "  'Price': 200,\n",
       "  'Quantity': 40,\n",
       "  'Weight': 780,\n",
       "  'Tax': 7,\n",
       "  'Discount': 0},\n",
       " 1021: {'Name': 'Black Beans',\n",
       "  'Price': 300,\n",
       "  'Quantity': 19,\n",
       "  'Weight': 760,\n",
       "  'Tax': 6,\n",
       "  'Discount': 0},\n",
       " 1022: {'Name': 'Soups',\n",
       "  'Price': 30,\n",
       "  'Quantity': 49,\n",
       "  'Weight': 50,\n",
       "  'Tax': 7,\n",
       "  'Discount': 3},\n",
       " 1023: {'Name': 'Tuna',\n",
       "  'Price': 500,\n",
       "  'Quantity': 5,\n",
       "  'Weight': 30,\n",
       "  'Tax': 50,\n",
       "  'Discount': 9},\n",
       " 1024: {'Name': 'Green Chiles',\n",
       "  'Price': 40,\n",
       "  'Quantity': 50,\n",
       "  'Weight': 100,\n",
       "  'Tax': 0,\n",
       "  'Discount': 0},\n",
       " 1025: {'Name': 'Quick Oats',\n",
       "  'Price': 500,\n",
       "  'Quantity': 70,\n",
       "  'Weight': 250,\n",
       "  'Tax': 20,\n",
       "  'Discount': 7},\n",
       " 1026: {'Name': 'Popcorn',\n",
       "  'Price': 100,\n",
       "  'Quantity': 50,\n",
       "  'Weight': 50,\n",
       "  'Tax': 7,\n",
       "  'Discount': 3},\n",
       " 1027: {'Name': 'Tortilla Chips',\n",
       "  'Price': 500,\n",
       "  'Quantity': 50,\n",
       "  'Weight': 900,\n",
       "  'Tax': 17,\n",
       "  'Discount': 0},\n",
       " 1028: {'Name': 'Cereal',\n",
       "  'Price': 70,\n",
       "  'Quantity': 69,\n",
       "  'Weight': 50,\n",
       "  'Tax': 7,\n",
       "  'Discount': 2},\n",
       " 1029: {'Name': 'Coconut Oil',\n",
       "  'Price': 70,\n",
       "  'Quantity': 30,\n",
       "  'Weight': 1,\n",
       "  'Tax': 7,\n",
       "  'Discount': 0},\n",
       " 1030: {'Name': 'Olive Oil',\n",
       "  'Price': 700,\n",
       "  'Quantity': 40,\n",
       "  'Weight': 250,\n",
       "  'Tax': 19,\n",
       "  'Discount': 0},\n",
       " 1031: {'Name': 'Red Wine Vinegar',\n",
       "  'Price': 1000,\n",
       "  'Quantity': 19,\n",
       "  'Weight': 200,\n",
       "  'Tax': 14,\n",
       "  'Discount': 7}}"
      ]
     },
     "execution_count": 34,
     "metadata": {},
     "output_type": "execute_result"
    }
   ],
   "source": [
    "record\n"
   ]
  },
  {
   "cell_type": "code",
   "execution_count": 35,
   "id": "aab8aaa2",
   "metadata": {},
   "outputs": [],
   "source": [
    "txt = json.dumps(record)"
   ]
  },
  {
   "cell_type": "code",
   "execution_count": 36,
   "id": "acd67fa2",
   "metadata": {},
   "outputs": [
    {
     "data": {
      "text/plain": [
       "'{\"1001\": {\"Name\": \"Baking Soda\", \"Price\": 55, \"Quantity\": 23, \"Weight\": 200, \"Tax\": 6, \"Discount\": 4}, \"1002\": {\"Name\": \"Baking powder\", \"Price\": 50, \"Quantity\": 20, \"Weight\": 200, \"Tax\": 5, \"Discount\": 3}, \"1003\": {\"Name\": \"Sugar\", \"Price\": 80, \"Quantity\": 200, \"Weight\": 2000, \"Tax\": 10, \"Discount\": 9}, \"1004\": {\"Name\": \"Flour\", \"Price\": 100, \"Quantity\": 70, \"Weight\": 15, \"Tax\": 9, \"Discount\": 7}, \"1005\": {\"Name\": \"Honey\", \"Price\": 200, \"Quantity\": 7, \"Weight\": 100, \"Tax\": 3, \"Discount\": 4}, \"1006\": {\"Name\": \"Vanilla\", \"Price\": 250, \"Quantity\": 19, \"Weight\": 750, \"Tax\": 5, \"Discount\": 17}, \"1007\": {\"Name\": \"Dry Yeast\", \"Price\": 53, \"Quantity\": 7, \"Weight\": 70, \"Tax\": 5, \"Discount\": 3}, \"1008\": {\"Name\": \"Chocolate Chips\", \"Price\": 1000, \"Quantity\": 69, \"Weight\": 700, \"Tax\": 6, \"Discount\": 7}, \"1009\": {\"Name\": \"Cocoa Powder\", \"Price\": 378, \"Quantity\": 7, \"Weight\": 500, \"Tax\": 8, \"Discount\": 7}, \"1010\": {\"Name\": \"Butter\", \"Price\": 150, \"Quantity\": 50, \"Weight\": 125, \"Tax\": 7, \"Discount\": 6}, \"1011\": {\"Name\": \"Shredded Cheese\", \"Price\": 300, \"Quantity\": 7, \"Weight\": 80, \"Tax\": 17, \"Discount\": 7}, \"1012\": {\"Name\": \"Milk\", \"Price\": 50, \"Quantity\": 70, \"Weight\": 100, \"Tax\": 7, \"Discount\": 9}, \"1013\": {\"Name\": \"Sour Cream\", \"Price\": 60, \"Quantity\": 7, \"Weight\": 500, \"Tax\": 9, \"Discount\": 11}, \"1014\": {\"Name\": \"Greek Yogurt\", \"Price\": 80, \"Quantity\": 13, \"Weight\": 90, \"Tax\": 11, \"Discount\": 3}, \"1015\": {\"Name\": \"Chicken stock\", \"Price\": 160, \"Quantity\": 14, \"Weight\": 77, \"Tax\": 9, \"Discount\": 0}, \"1016\": {\"Name\": \"Salsa\", \"Price\": 200, \"Quantity\": 5, \"Weight\": 500, \"Tax\": 10, \"Discount\": 9}, \"1017\": {\"Name\": \"Diced Tomatoes\", \"Price\": 100, \"Quantity\": 90, \"Weight\": 124, \"Tax\": 0, \"Discount\": 7}, \"1018\": {\"Name\": \"Jam\", \"Price\": 80, \"Quantity\": 40, \"Weight\": 125, \"Tax\": 19, \"Discount\": 7}, \"1019\": {\"Name\": \"Peanut Butter\", \"Price\": 400, \"Quantity\": 40, \"Weight\": 250, \"Tax\": 19, \"Discount\": 0}, \"1020\": {\"Name\": \"Pasta Sauce\", \"Price\": 200, \"Quantity\": 40, \"Weight\": 780, \"Tax\": 7, \"Discount\": 0}, \"1021\": {\"Name\": \"Black Beans\", \"Price\": 300, \"Quantity\": 19, \"Weight\": 760, \"Tax\": 6, \"Discount\": 0}, \"1022\": {\"Name\": \"Soups\", \"Price\": 30, \"Quantity\": 49, \"Weight\": 50, \"Tax\": 7, \"Discount\": 3}, \"1023\": {\"Name\": \"Tuna\", \"Price\": 500, \"Quantity\": 5, \"Weight\": 30, \"Tax\": 50, \"Discount\": 9}, \"1024\": {\"Name\": \"Green Chiles\", \"Price\": 40, \"Quantity\": 50, \"Weight\": 100, \"Tax\": 0, \"Discount\": 0}, \"1025\": {\"Name\": \"Quick Oats\", \"Price\": 500, \"Quantity\": 70, \"Weight\": 250, \"Tax\": 20, \"Discount\": 7}, \"1026\": {\"Name\": \"Popcorn\", \"Price\": 100, \"Quantity\": 50, \"Weight\": 50, \"Tax\": 7, \"Discount\": 3}, \"1027\": {\"Name\": \"Tortilla Chips\", \"Price\": 500, \"Quantity\": 50, \"Weight\": 900, \"Tax\": 17, \"Discount\": 0}, \"1028\": {\"Name\": \"Cereal\", \"Price\": 70, \"Quantity\": 69, \"Weight\": 50, \"Tax\": 7, \"Discount\": 2}, \"1029\": {\"Name\": \"Coconut Oil\", \"Price\": 70, \"Quantity\": 30, \"Weight\": 1, \"Tax\": 7, \"Discount\": 0}, \"1030\": {\"Name\": \"Olive Oil\", \"Price\": 700, \"Quantity\": 40, \"Weight\": 250, \"Tax\": 19, \"Discount\": 0}, \"1031\": {\"Name\": \"Red Wine Vinegar\", \"Price\": 1000, \"Quantity\": 19, \"Weight\": 200, \"Tax\": 14, \"Discount\": 7}}'"
      ]
     },
     "execution_count": 36,
     "metadata": {},
     "output_type": "execute_result"
    }
   ],
   "source": [
    "txt"
   ]
  },
  {
   "cell_type": "code",
   "execution_count": 37,
   "id": "3e79bde5",
   "metadata": {},
   "outputs": [],
   "source": [
    "fd = open(\"inventory.json\",'a')\n",
    "fd.write(txt)\n",
    "fd.close()"
   ]
  },
  {
   "cell_type": "code",
   "execution_count": 2,
   "id": "ac63725a",
   "metadata": {},
   "outputs": [],
   "source": [
    "fd = open(\"inventory.json\",'r')\n",
    "txt = fd.read()\n",
    "fd.close()"
   ]
  },
  {
   "cell_type": "markdown",
   "id": "e87cafa4",
   "metadata": {},
   "source": [
    "## Sales file\n"
   ]
  },
  {
   "cell_type": "code",
   "execution_count": 1,
   "id": "180a0564",
   "metadata": {},
   "outputs": [
    {
     "ename": "FileNotFoundError",
     "evalue": "[Errno 2] No such file or directory: 'sales.json'",
     "output_type": "error",
     "traceback": [
      "\u001b[1;31m---------------------------------------------------------------------------\u001b[0m",
      "\u001b[1;31mFileNotFoundError\u001b[0m                         Traceback (most recent call last)",
      "\u001b[1;32m<ipython-input-1-c1329522bda1>\u001b[0m in \u001b[0;36m<module>\u001b[1;34m\u001b[0m\n\u001b[1;32m----> 1\u001b[1;33m \u001b[0mfd\u001b[0m \u001b[1;33m=\u001b[0m \u001b[0mopen\u001b[0m\u001b[1;33m(\u001b[0m\u001b[1;34m\"sales.json\"\u001b[0m\u001b[1;33m,\u001b[0m\u001b[1;34m'r'\u001b[0m\u001b[1;33m)\u001b[0m\u001b[1;33m\u001b[0m\u001b[1;33m\u001b[0m\u001b[0m\n\u001b[0m\u001b[0;32m      2\u001b[0m \u001b[0mtxt\u001b[0m \u001b[1;33m=\u001b[0m \u001b[0mfd\u001b[0m\u001b[1;33m.\u001b[0m\u001b[0mread\u001b[0m\u001b[1;33m(\u001b[0m\u001b[1;33m)\u001b[0m\u001b[1;33m\u001b[0m\u001b[1;33m\u001b[0m\u001b[0m\n\u001b[0;32m      3\u001b[0m \u001b[0mfd\u001b[0m\u001b[1;33m.\u001b[0m\u001b[0mclose\u001b[0m\u001b[1;33m(\u001b[0m\u001b[1;33m)\u001b[0m\u001b[1;33m\u001b[0m\u001b[1;33m\u001b[0m\u001b[0m\n",
      "\u001b[1;31mFileNotFoundError\u001b[0m: [Errno 2] No such file or directory: 'sales.json'"
     ]
    }
   ],
   "source": [
    "fd = open(\"sales.json\",'r')\n",
    "txt = fd.read()\n",
    "fd.close()"
   ]
  },
  {
   "cell_type": "code",
   "execution_count": null,
   "id": "bea4d16c",
   "metadata": {},
   "outputs": [],
   "source": [
    "t"
   ]
  }
 ],
 "metadata": {
  "kernelspec": {
   "display_name": "Python 3",
   "language": "python",
   "name": "python3"
  },
  "language_info": {
   "codemirror_mode": {
    "name": "ipython",
    "version": 3
   },
   "file_extension": ".py",
   "mimetype": "text/x-python",
   "name": "python",
   "nbconvert_exporter": "python",
   "pygments_lexer": "ipython3",
   "version": "3.8.8"
  }
 },
 "nbformat": 4,
 "nbformat_minor": 5
}
