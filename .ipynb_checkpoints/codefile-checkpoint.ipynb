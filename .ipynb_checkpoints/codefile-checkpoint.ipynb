{
 "cells": [
  {
   "cell_type": "markdown",
   "id": "a7f024ef",
   "metadata": {},
   "source": [
    "## Recording the inventory\n"
   ]
  },
  {
   "cell_type": "code",
   "execution_count": 15,
   "id": "564be0c6",
   "metadata": {},
   "outputs": [],
   "source": [
    "record.update({1003: {\"Name\": \"Sugar\",\"Price\": 80, \"Quantity\": 200, \"Weight\": 2000, \"Tax\": 10, \"Discount\": 9 }})"
   ]
  },
  {
   "cell_type": "code",
   "execution_count": 21,
   "id": "ab7a15cb",
   "metadata": {},
   "outputs": [],
   "source": [
    "import json"
   ]
  },
  {
   "cell_type": "code",
   "execution_count": 22,
   "id": "dd33e962",
   "metadata": {},
   "outputs": [],
   "source": [
    "txt = json.dumps(record)"
   ]
  },
  {
   "cell_type": "code",
   "execution_count": 23,
   "id": "6ad5129a",
   "metadata": {},
   "outputs": [
    {
     "data": {
      "text/plain": [
       "'{\"1001\": {\"Name\": \"Baking Soda\", \"Price\": 55, \"Quantity\": 23, \"Weight\": 200, \"Tax\": 6, \"Discount\": 4}, \"1002\": {\"Name\": \"Baking powder\", \"Price\": 50, \"Quantity\": 20, \"Weight\": 200, \"Tax\": 5, \"Discount\": 3}, \"1003\": {\"Name\": \"Sugar\", \"Price\": 80, \"Quantity\": 200, \"Weight\": 2000, \"Tax\": 10, \"Discount\": 9}}'"
      ]
     },
     "execution_count": 23,
     "metadata": {},
     "output_type": "execute_result"
    }
   ],
   "source": [
    "txt"
   ]
  },
  {
   "cell_type": "code",
   "execution_count": 24,
   "id": "81c6852d",
   "metadata": {},
   "outputs": [
    {
     "data": {
      "text/plain": [
       "str"
      ]
     },
     "execution_count": 24,
     "metadata": {},
     "output_type": "execute_result"
    }
   ],
   "source": [
    "type(txt)"
   ]
  },
  {
   "cell_type": "code",
   "execution_count": 25,
   "id": "8d0efb1a",
   "metadata": {},
   "outputs": [],
   "source": [
    "fd = open(\"inventory.json\",'w')\n",
    "fd.write(txt)\n",
    "fd.close()"
   ]
  },
  {
   "cell_type": "code",
   "execution_count": 27,
   "id": "b4b8f1d4",
   "metadata": {},
   "outputs": [
    {
     "data": {
      "text/plain": [
       "{1001: {'Name': 'Baking Soda',\n",
       "  'Price': 55,\n",
       "  'Quantity': 23,\n",
       "  'Weight': 200,\n",
       "  'Tax': 6,\n",
       "  'Discount': 4},\n",
       " 1002: {'Name': 'Baking powder',\n",
       "  'Price': 50,\n",
       "  'Quantity': 20,\n",
       "  'Weight': 200,\n",
       "  'Tax': 5,\n",
       "  'Discount': 3},\n",
       " 1003: {'Name': 'Sugar',\n",
       "  'Price': 80,\n",
       "  'Quantity': 200,\n",
       "  'Weight': 2000,\n",
       "  'Tax': 10,\n",
       "  'Discount': 9}}"
      ]
     },
     "execution_count": 27,
     "metadata": {},
     "output_type": "execute_result"
    }
   ],
   "source": [
    "record\n"
   ]
  },
  {
   "cell_type": "code",
   "execution_count": 31,
   "id": "72d56d8a",
   "metadata": {},
   "outputs": [
    {
     "name": "stdout",
     "output_type": "stream",
     "text": [
      "name: Flour\n",
      "Price: 100\n",
      "Quant: 70\n",
      "weight: 15\n",
      "tax: 9\n",
      "Disc: 7\n"
     ]
    }
   ],
   "source": [
    "for i in range(4,5):\n",
    "    Name = input(\"name: \")\n",
    "    Price = int(input(\"Price: \"))\n",
    "    Quantity = int(input(\"Quant: \"))\n",
    "    Weight = int(input(\"weight: \")) \n",
    "    Tax = int(input(\"tax: \")) \n",
    "    Discount = int(input(\"Disc: \"))\n",
    "    record.update({1000+i: {\"Name\": Name,\"Price\": Price, \"Quantity\": Quantity, \"Weight\": Weight, \"Tax\": Tax, \"Discount\": Discount }})\n",
    "    "
   ]
  },
  {
   "cell_type": "code",
   "execution_count": 32,
   "id": "d08f52ba",
   "metadata": {},
   "outputs": [
    {
     "data": {
      "text/plain": [
       "{1001: {'Name': 'Baking Soda',\n",
       "  'Price': 55,\n",
       "  'Quantity': 23,\n",
       "  'Weight': 200,\n",
       "  'Tax': 6,\n",
       "  'Discount': 4},\n",
       " 1002: {'Name': 'Baking powder',\n",
       "  'Price': 50,\n",
       "  'Quantity': 20,\n",
       "  'Weight': 200,\n",
       "  'Tax': 5,\n",
       "  'Discount': 3},\n",
       " 1003: {'Name': 'Sugar',\n",
       "  'Price': 80,\n",
       "  'Quantity': 200,\n",
       "  'Weight': 2000,\n",
       "  'Tax': 10,\n",
       "  'Discount': 9},\n",
       " 1004: {'Name': 'Flour',\n",
       "  'Price': 100,\n",
       "  'Quantity': 70,\n",
       "  'Weight': 15,\n",
       "  'Tax': 9,\n",
       "  'Discount': 7}}"
      ]
     },
     "execution_count": 32,
     "metadata": {},
     "output_type": "execute_result"
    }
   ],
   "source": [
    "record"
   ]
  },
  {
   "cell_type": "code",
   "execution_count": 33,
   "id": "eee61e83",
   "metadata": {},
   "outputs": [
    {
     "name": "stdout",
     "output_type": "stream",
     "text": [
      "name: Honey\n",
      "Price: 200\n",
      "Quant: 7\n",
      "weight: 100\n",
      "tax: 3\n",
      "Disc: 4\n",
      "name: Vanilla\n",
      "Price: 250\n",
      "Quant: 19\n",
      "weight: 750\n",
      "tax: 5\n",
      "Disc: 17\n",
      "name: Dry Yeast\n",
      "Price: 53\n",
      "Quant: 7\n",
      "weight: 70\n",
      "tax: 5\n",
      "Disc: 3\n",
      "name: Chocolate Chips\n",
      "Price: 1000\n",
      "Quant: 69\n",
      "weight: 700\n",
      "tax: 6\n",
      "Disc: 7\n",
      "name: Cocoa Powder\n",
      "Price: 378\n",
      "Quant: 7\n",
      "weight: 500\n",
      "tax: 8\n",
      "Disc: 7\n",
      "name: Butter\n",
      "Price: 150\n",
      "Quant: 50\n",
      "weight: 125\n",
      "tax: 7\n",
      "Disc: 6\n",
      "name: Shredded Cheese\n",
      "Price: 300\n",
      "Quant: 7\n",
      "weight: 80\n",
      "tax: 17\n",
      "Disc: 7\n",
      "name: Milk\n",
      "Price: 50\n",
      "Quant: 70\n",
      "weight: 100\n",
      "tax: 7\n",
      "Disc: 9\n",
      "name: Sour Cream\n",
      "Price: 60\n",
      "Quant: 7\n",
      "weight: 500\n",
      "tax: 9\n",
      "Disc: 11\n",
      "name: Greek Yogurt\n",
      "Price: 80\n",
      "Quant: 13\n",
      "weight: 90\n",
      "tax: 11\n",
      "Disc: 3\n",
      "name: Chicken stock\n",
      "Price: 160\n",
      "Quant: 14\n",
      "weight: 77\n",
      "tax: 9\n",
      "Disc: 0\n",
      "name: Salsa\n",
      "Price: 200\n",
      "Quant: 5\n",
      "weight: 500\n",
      "tax: 10\n",
      "Disc: 9\n",
      "name: Diced Tomatoes\n",
      "Price: 100\n",
      "Quant: 90\n",
      "weight: 124\n",
      "tax: 0\n",
      "Disc: 7\n",
      "name: Jam\n",
      "Price: 80\n",
      "Quant: 40\n",
      "weight: 125\n",
      "tax: 19\n",
      "Disc: 7\n",
      "name: Peanut Butter\n",
      "Price: 400\n",
      "Quant: 40\n",
      "weight: 250\n",
      "tax: 19\n",
      "Disc: 0\n",
      "name: Pasta Sauce\n",
      "Price: 200\n",
      "Quant: 40\n",
      "weight: 780\n",
      "tax: 7\n",
      "Disc: 0\n",
      "name: Black Beans\n",
      "Price: 300\n",
      "Quant: 19\n",
      "weight: 760\n",
      "tax: 6\n",
      "Disc: 0\n",
      "name: Soups\n",
      "Price: 30\n",
      "Quant: 49\n",
      "weight: 50\n",
      "tax: 7\n",
      "Disc: 3\n",
      "name: Tuna\n",
      "Price: 500\n",
      "Quant: 5\n",
      "weight: 30\n",
      "tax: 50\n",
      "Disc: 9\n",
      "name: Green Chiles\n",
      "Price: 40\n",
      "Quant: 50\n",
      "weight: 100\n",
      "tax: 0\n",
      "Disc: 0\n",
      "name: Quick Oats\n",
      "Price: 500\n",
      "Quant: 70\n",
      "weight: 250\n",
      "tax: 20\n",
      "Disc: 7\n",
      "name: Popcorn\n",
      "Price: 100\n",
      "Quant: 50\n",
      "weight: 50\n",
      "tax: 7\n",
      "Disc: 3\n",
      "name: Tortilla Chips\n",
      "Price: 500\n",
      "Quant: 50\n",
      "weight: 900\n",
      "tax: 17\n",
      "Disc: 0\n",
      "name: Cereal\n",
      "Price: 70\n",
      "Quant: 69\n",
      "weight: 50\n",
      "tax: 7\n",
      "Disc: 2\n",
      "name: Coconut Oil\n",
      "Price: 70\n",
      "Quant: 30\n",
      "weight: 1\n",
      "tax: 7\n",
      "Disc: 0\n",
      "name: Olive Oil\n",
      "Price: 700\n",
      "Quant: 40\n",
      "weight: 250\n",
      "tax: 19\n",
      "Disc: 0\n",
      "name: Red Wine Vinegar\n",
      "Price: 1000\n",
      "Quant: 19\n",
      "weight: 200\n",
      "tax: 14\n",
      "Disc: 7\n"
     ]
    }
   ],
   "source": [
    "for i in range(5,32):\n",
    "    Name = input(\"name: \")\n",
    "    Price = int(input(\"Price: \"))\n",
    "    Quantity = int(input(\"Quant: \"))\n",
    "    Weight = int(input(\"weight: \")) \n",
    "    Tax = int(input(\"tax: \")) \n",
    "    Discount = int(input(\"Disc: \"))\n",
    "    record.update({1000+i: {\"Name\": Name,\"Price\": Price, \"Quantity\": Quantity, \"Weight\": Weight, \"Tax\": Tax, \"Discount\": Discount }})\n",
    "    "
   ]
  },
  {
   "cell_type": "code",
   "execution_count": 34,
   "id": "b618fcb4",
   "metadata": {},
   "outputs": [
    {
     "data": {
      "text/plain": [
       "{1001: {'Name': 'Baking Soda',\n",
       "  'Price': 55,\n",
       "  'Quantity': 23,\n",
       "  'Weight': 200,\n",
       "  'Tax': 6,\n",
       "  'Discount': 4},\n",
       " 1002: {'Name': 'Baking powder',\n",
       "  'Price': 50,\n",
       "  'Quantity': 20,\n",
       "  'Weight': 200,\n",
       "  'Tax': 5,\n",
       "  'Discount': 3},\n",
       " 1003: {'Name': 'Sugar',\n",
       "  'Price': 80,\n",
       "  'Quantity': 200,\n",
       "  'Weight': 2000,\n",
       "  'Tax': 10,\n",
       "  'Discount': 9},\n",
       " 1004: {'Name': 'Flour',\n",
       "  'Price': 100,\n",
       "  'Quantity': 70,\n",
       "  'Weight': 15,\n",
       "  'Tax': 9,\n",
       "  'Discount': 7},\n",
       " 1005: {'Name': 'Honey',\n",
       "  'Price': 200,\n",
       "  'Quantity': 7,\n",
       "  'Weight': 100,\n",
       "  'Tax': 3,\n",
       "  'Discount': 4},\n",
       " 1006: {'Name': 'Vanilla',\n",
       "  'Price': 250,\n",
       "  'Quantity': 19,\n",
       "  'Weight': 750,\n",
       "  'Tax': 5,\n",
       "  'Discount': 17},\n",
       " 1007: {'Name': 'Dry Yeast',\n",
       "  'Price': 53,\n",
       "  'Quantity': 7,\n",
       "  'Weight': 70,\n",
       "  'Tax': 5,\n",
       "  'Discount': 3},\n",
       " 1008: {'Name': 'Chocolate Chips',\n",
       "  'Price': 1000,\n",
       "  'Quantity': 69,\n",
       "  'Weight': 700,\n",
       "  'Tax': 6,\n",
       "  'Discount': 7},\n",
       " 1009: {'Name': 'Cocoa Powder',\n",
       "  'Price': 378,\n",
       "  'Quantity': 7,\n",
       "  'Weight': 500,\n",
       "  'Tax': 8,\n",
       "  'Discount': 7},\n",
       " 1010: {'Name': 'Butter',\n",
       "  'Price': 150,\n",
       "  'Quantity': 50,\n",
       "  'Weight': 125,\n",
       "  'Tax': 7,\n",
       "  'Discount': 6},\n",
       " 1011: {'Name': 'Shredded Cheese',\n",
       "  'Price': 300,\n",
       "  'Quantity': 7,\n",
       "  'Weight': 80,\n",
       "  'Tax': 17,\n",
       "  'Discount': 7},\n",
       " 1012: {'Name': 'Milk',\n",
       "  'Price': 50,\n",
       "  'Quantity': 70,\n",
       "  'Weight': 100,\n",
       "  'Tax': 7,\n",
       "  'Discount': 9},\n",
       " 1013: {'Name': 'Sour Cream',\n",
       "  'Price': 60,\n",
       "  'Quantity': 7,\n",
       "  'Weight': 500,\n",
       "  'Tax': 9,\n",
       "  'Discount': 11},\n",
       " 1014: {'Name': 'Greek Yogurt',\n",
       "  'Price': 80,\n",
       "  'Quantity': 13,\n",
       "  'Weight': 90,\n",
       "  'Tax': 11,\n",
       "  'Discount': 3},\n",
       " 1015: {'Name': 'Chicken stock',\n",
       "  'Price': 160,\n",
       "  'Quantity': 14,\n",
       "  'Weight': 77,\n",
       "  'Tax': 9,\n",
       "  'Discount': 0},\n",
       " 1016: {'Name': 'Salsa',\n",
       "  'Price': 200,\n",
       "  'Quantity': 5,\n",
       "  'Weight': 500,\n",
       "  'Tax': 10,\n",
       "  'Discount': 9},\n",
       " 1017: {'Name': 'Diced Tomatoes',\n",
       "  'Price': 100,\n",
       "  'Quantity': 90,\n",
       "  'Weight': 124,\n",
       "  'Tax': 0,\n",
       "  'Discount': 7},\n",
       " 1018: {'Name': 'Jam',\n",
       "  'Price': 80,\n",
       "  'Quantity': 40,\n",
       "  'Weight': 125,\n",
       "  'Tax': 19,\n",
       "  'Discount': 7},\n",
       " 1019: {'Name': 'Peanut Butter',\n",
       "  'Price': 400,\n",
       "  'Quantity': 40,\n",
       "  'Weight': 250,\n",
       "  'Tax': 19,\n",
       "  'Discount': 0},\n",
       " 1020: {'Name': 'Pasta Sauce',\n",
       "  'Price': 200,\n",
       "  'Quantity': 40,\n",
       "  'Weight': 780,\n",
       "  'Tax': 7,\n",
       "  'Discount': 0},\n",
       " 1021: {'Name': 'Black Beans',\n",
       "  'Price': 300,\n",
       "  'Quantity': 19,\n",
       "  'Weight': 760,\n",
       "  'Tax': 6,\n",
       "  'Discount': 0},\n",
       " 1022: {'Name': 'Soups',\n",
       "  'Price': 30,\n",
       "  'Quantity': 49,\n",
       "  'Weight': 50,\n",
       "  'Tax': 7,\n",
       "  'Discount': 3},\n",
       " 1023: {'Name': 'Tuna',\n",
       "  'Price': 500,\n",
       "  'Quantity': 5,\n",
       "  'Weight': 30,\n",
       "  'Tax': 50,\n",
       "  'Discount': 9},\n",
       " 1024: {'Name': 'Green Chiles',\n",
       "  'Price': 40,\n",
       "  'Quantity': 50,\n",
       "  'Weight': 100,\n",
       "  'Tax': 0,\n",
       "  'Discount': 0},\n",
       " 1025: {'Name': 'Quick Oats',\n",
       "  'Price': 500,\n",
       "  'Quantity': 70,\n",
       "  'Weight': 250,\n",
       "  'Tax': 20,\n",
       "  'Discount': 7},\n",
       " 1026: {'Name': 'Popcorn',\n",
       "  'Price': 100,\n",
       "  'Quantity': 50,\n",
       "  'Weight': 50,\n",
       "  'Tax': 7,\n",
       "  'Discount': 3},\n",
       " 1027: {'Name': 'Tortilla Chips',\n",
       "  'Price': 500,\n",
       "  'Quantity': 50,\n",
       "  'Weight': 900,\n",
       "  'Tax': 17,\n",
       "  'Discount': 0},\n",
       " 1028: {'Name': 'Cereal',\n",
       "  'Price': 70,\n",
       "  'Quantity': 69,\n",
       "  'Weight': 50,\n",
       "  'Tax': 7,\n",
       "  'Discount': 2},\n",
       " 1029: {'Name': 'Coconut Oil',\n",
       "  'Price': 70,\n",
       "  'Quantity': 30,\n",
       "  'Weight': 1,\n",
       "  'Tax': 7,\n",
       "  'Discount': 0},\n",
       " 1030: {'Name': 'Olive Oil',\n",
       "  'Price': 700,\n",
       "  'Quantity': 40,\n",
       "  'Weight': 250,\n",
       "  'Tax': 19,\n",
       "  'Discount': 0},\n",
       " 1031: {'Name': 'Red Wine Vinegar',\n",
       "  'Price': 1000,\n",
       "  'Quantity': 19,\n",
       "  'Weight': 200,\n",
       "  'Tax': 14,\n",
       "  'Discount': 7}}"
      ]
     },
     "execution_count": 34,
     "metadata": {},
     "output_type": "execute_result"
    }
   ],
   "source": [
    "record\n"
   ]
  },
  {
   "cell_type": "code",
   "execution_count": 35,
   "id": "aab8aaa2",
   "metadata": {},
   "outputs": [],
   "source": [
    "txt = json.dumps(record)"
   ]
  },
  {
   "cell_type": "code",
   "execution_count": 37,
   "id": "3e79bde5",
   "metadata": {},
   "outputs": [],
   "source": [
    "fd = open(\"inventory.json\",'a')\n",
    "fd.write(txt)\n",
    "fd.close()"
   ]
  },
  {
   "cell_type": "code",
   "execution_count": 2,
   "id": "ac63725a",
   "metadata": {},
   "outputs": [],
   "source": [
    "fd = open(\"inventory.json\",'r')\n",
    "txt = fd.read()\n",
    "fd.close()"
   ]
  },
  {
   "cell_type": "markdown",
   "id": "d20f4a6b",
   "metadata": {},
   "source": [
    "## Sales file\n"
   ]
  },
  {
   "cell_type": "code",
   "execution_count": null,
   "id": "25cba0aa",
   "metadata": {},
   "outputs": [],
   "source": [
    "sales = {101:{'Name':\"Manu Varghese\",\"Age\":20,\"Total\":100,\"Date\":\"06-09-2021\",\"Time\":\"1400\",\"Payment Mode\":\"Cash\"}}"
   ]
  },
  {
   "cell_type": "code",
   "execution_count": 3,
   "id": "6750e3b0",
   "metadata": {},
   "outputs": [],
   "source": [
    "fd = open(\"sales.json\",'r')\n",
    "txt = fd.read()\n",
    "fd.close()"
   ]
  },
  {
   "cell_type": "code",
   "execution_count": 7,
   "id": "5e66fa60",
   "metadata": {},
   "outputs": [],
   "source": [
    "import json \n",
    "txt = json.dumps(sales)"
   ]
  },
  {
   "cell_type": "code",
   "execution_count": 8,
   "id": "8fc878c7",
   "metadata": {},
   "outputs": [
    {
     "data": {
      "text/plain": [
       "'{\"101\": {\"Name\": \"Manu Varghese\", \"Age\": 20, \"Total\": 100, \"Date\": \"06-09-2021\", \"Time\": \"1400hrs\", \"Payment Mode\": \"Cash\"}}'"
      ]
     },
     "execution_count": 8,
     "metadata": {},
     "output_type": "execute_result"
    }
   ],
   "source": [
    "txt"
   ]
  },
  {
   "cell_type": "code",
   "execution_count": 10,
   "id": "9110fc84",
   "metadata": {},
   "outputs": [],
   "source": [
    "fs = open(\"sales.json\",'w')\n",
    "fs.write(txt)\n",
    "fs.close()"
   ]
  },
  {
   "cell_type": "code",
   "execution_count": 11,
   "id": "b53caa77",
   "metadata": {},
   "outputs": [],
   "source": [
    "fd = open(\"sales.json\",'r')\n",
    "txt = fd.read()\n",
    "fd.close()"
   ]
  },
  {
   "cell_type": "code",
   "execution_count": 12,
   "id": "446f6010",
   "metadata": {},
   "outputs": [
    {
     "data": {
      "text/plain": [
       "'{\"101\": {\"Name\": \"Manu Varghese\", \"Age\": 20, \"Total\": 100, \"Date\": \"06-09-2021\", \"Time\": \"1400hrs\", \"Payment Mode\": \"Cash\"}}'"
      ]
     },
     "execution_count": 12,
     "metadata": {},
     "output_type": "execute_result"
    }
   ],
   "source": [
    "txt"
   ]
  },
  {
   "cell_type": "code",
   "execution_count": 13,
   "id": "887d8a96",
   "metadata": {},
   "outputs": [],
   "source": [
    "sales = {101:{'Name':\"Manu Varghese\",\"Age\":20,\"Total\":100,\"Date\":\"06-09-2021\",\"Time\":\"1400\",\"Payment Mode\":\"Cash\"}}"
   ]
  },
  {
   "cell_type": "code",
   "execution_count": 16,
   "id": "ff102aab",
   "metadata": {},
   "outputs": [],
   "source": [
    "sales.update({102:{'Name':\"Biji Varghese\",\"Age\":25,\"Total\":1000,\"Date\":\"06-09-2021\",\"Time\":\"1411\",\"Payment Mode\":\"Cash\"}})"
   ]
  },
  {
   "cell_type": "code",
   "execution_count": 17,
   "id": "1eb1ffcb",
   "metadata": {},
   "outputs": [
    {
     "data": {
      "text/plain": [
       "{101: {'Name': 'Manu Varghese',\n",
       "  'Age': 20,\n",
       "  'Total': 100,\n",
       "  'Date': '06-09-2021',\n",
       "  'Time': '1400',\n",
       "  'Payment Mode': 'Cash'},\n",
       " 102: {'Name': 'Biji Varghese',\n",
       "  'Age': 25,\n",
       "  'Total': 1000,\n",
       "  'Date': '06-09-2021',\n",
       "  'Time': '1411',\n",
       "  'Payment Mode': 'Cash'}}"
      ]
     },
     "execution_count": 17,
     "metadata": {},
     "output_type": "execute_result"
    }
   ],
   "source": [
    "sales"
   ]
  },
  {
   "cell_type": "code",
   "execution_count": 19,
   "id": "c6b7c78e",
   "metadata": {},
   "outputs": [],
   "source": [
    "sales.update(\n",
    "    {104:{'Name':\"Ajinkya Rahane\",\"Age\":30,\"Total\":1250,\"Date\":\"05-09-2021\",\n",
    "                   \"Time\":\"1417\",\"Payment Mode\":\"Credit Card\"}})"
   ]
  },
  {
   "cell_type": "code",
   "execution_count": 20,
   "id": "8eac54bd",
   "metadata": {},
   "outputs": [],
   "source": [
    "sales.update({105:{'Name':\"Bhuvneshwar Kumar\",\"Age\":31,\"Total\":1300,\"Date\":\"03-09-2021\",\n",
    "                   \"Time\":\"1420\",\"Payment Mode\":\"Cash\"}})"
   ]
  },
  {
   "cell_type": "code",
   "execution_count": 21,
   "id": "70957189",
   "metadata": {},
   "outputs": [
    {
     "data": {
      "text/plain": [
       "{101: {'Name': 'Manu Varghese',\n",
       "  'Age': 20,\n",
       "  'Total': 100,\n",
       "  'Date': '06-09-2021',\n",
       "  'Time': '1400',\n",
       "  'Payment Mode': 'Cash'},\n",
       " 102: {'Name': 'Biji Varghese',\n",
       "  'Age': 25,\n",
       "  'Total': 1000,\n",
       "  'Date': '06-09-2021',\n",
       "  'Time': '1411',\n",
       "  'Payment Mode': 'Cash'},\n",
       " 104: {'Name': 'Ajinkya Rahane',\n",
       "  'Age': 30,\n",
       "  'Total': 1250,\n",
       "  'Date': '05-09-2021',\n",
       "  'Time': '1417',\n",
       "  'Payment Mode': 'Credit Card'},\n",
       " 105: {'Name': 'Bhuvneshwar Kumar',\n",
       "  'Age': 31,\n",
       "  'Total': 1300,\n",
       "  'Date': '03-09-2021',\n",
       "  'Time': '1420',\n",
       "  'Payment Mode': 'Cash'}}"
      ]
     },
     "execution_count": 21,
     "metadata": {},
     "output_type": "execute_result"
    }
   ],
   "source": [
    "sales"
   ]
  },
  {
   "cell_type": "code",
   "execution_count": 22,
   "id": "bdd3118d",
   "metadata": {},
   "outputs": [],
   "source": [
    "sales.update({103:{'Name':\"Devdutt Padikkal\",\"Age\":31,\"Total\":2300,\"Date\":\"03-09-2021\",\n",
    "                   \"Time\":\"1422\",\"Payment Mode\":\"Cash\"}})"
   ]
  },
  {
   "cell_type": "code",
   "execution_count": 23,
   "id": "1e877d09",
   "metadata": {},
   "outputs": [
    {
     "data": {
      "text/plain": [
       "{101: {'Name': 'Manu Varghese',\n",
       "  'Age': 20,\n",
       "  'Total': 100,\n",
       "  'Date': '06-09-2021',\n",
       "  'Time': '1400',\n",
       "  'Payment Mode': 'Cash'},\n",
       " 102: {'Name': 'Biji Varghese',\n",
       "  'Age': 25,\n",
       "  'Total': 1000,\n",
       "  'Date': '06-09-2021',\n",
       "  'Time': '1411',\n",
       "  'Payment Mode': 'Cash'},\n",
       " 104: {'Name': 'Ajinkya Rahane',\n",
       "  'Age': 30,\n",
       "  'Total': 1250,\n",
       "  'Date': '05-09-2021',\n",
       "  'Time': '1417',\n",
       "  'Payment Mode': 'Credit Card'},\n",
       " 105: {'Name': 'Bhuvneshwar Kumar',\n",
       "  'Age': 31,\n",
       "  'Total': 1300,\n",
       "  'Date': '03-09-2021',\n",
       "  'Time': '1420',\n",
       "  'Payment Mode': 'Cash'},\n",
       " 103: {'Name': 'Devdutt Padikkal',\n",
       "  'Age': 31,\n",
       "  'Total': 2300,\n",
       "  'Date': '03-09-2021',\n",
       "  'Time': '1422',\n",
       "  'Payment Mode': 'Cash'}}"
      ]
     },
     "execution_count": 23,
     "metadata": {},
     "output_type": "execute_result"
    }
   ],
   "source": [
    "sales"
   ]
  },
  {
   "cell_type": "code",
   "execution_count": 24,
   "id": "3bba835a",
   "metadata": {},
   "outputs": [],
   "source": [
    "txt = json.dumps(sales)"
   ]
  },
  {
   "cell_type": "code",
   "execution_count": 25,
   "id": "b22c4824",
   "metadata": {},
   "outputs": [],
   "source": [
    "fs = open(\"sales.json\",'w')\n",
    "fs.write(txt)\n",
    "fs.close()"
   ]
  },
  {
   "cell_type": "markdown",
   "id": "28045a3d",
   "metadata": {},
   "source": [
    "## Comparing stock and then generating sales file\n"
   ]
  },
  {
   "cell_type": "code",
   "execution_count": 26,
   "id": "2531795a",
   "metadata": {},
   "outputs": [],
   "source": [
    "fd = open(\"Inventory.json\",'r')\n",
    "txt = fd.read()\n",
    "fd.close()"
   ]
  },
  {
   "cell_type": "code",
   "execution_count": 28,
   "id": "e5329a0e",
   "metadata": {},
   "outputs": [],
   "source": [
    "record = json.loads(txt)"
   ]
  },
  {
   "cell_type": "code",
   "execution_count": 31,
   "id": "272cb6a5",
   "metadata": {},
   "outputs": [
    {
     "data": {
      "text/plain": [
       "55"
      ]
     },
     "execution_count": 31,
     "metadata": {},
     "output_type": "execute_result"
    }
   ],
   "source": [
    "record['1001']['Price']"
   ]
  },
  {
   "cell_type": "markdown",
   "id": "f81af619",
   "metadata": {},
   "source": [
    "#### Billing "
   ]
  },
  {
   "cell_type": "code",
   "execution_count": 45,
   "id": "b4203493",
   "metadata": {},
   "outputs": [
    {
     "name": "stdout",
     "output_type": "stream",
     "text": [
      "Enter item code 1003\n",
      "Enter quantity 4\n",
      "Total:  320\n",
      "Enter 1 to input more product or 0 to print bill1\n",
      "Enter item code 1031\n",
      "Enter quantity 4\n",
      "Total:  4000\n",
      "Enter 1 to input more product or 0 to print bill1\n",
      "Enter item code 1020\n",
      "Enter quantity 1\n",
      "Total:  200\n",
      "Enter 1 to input more product or 0 to print bill0\n",
      "Enter your name Manu\n",
      "Enter age21\n",
      "Payment mode ? Cash\n",
      "********************\n",
      "Name:  Manu\n",
      "Total billing amount =  4520\n",
      "Payment mode:  Cash\n",
      "********************\n"
     ]
    }
   ],
   "source": [
    "# Checking if the requested quantity is available\n",
    "total = 0\n",
    "flag = 1\n",
    "while flag:\n",
    "    code = input(\"Enter item code \")\n",
    "    quantity = int(input(\"Enter quantity \"))\n",
    "    if (record[code]['Quantity'] >= quantity):\n",
    "        print(\"Total: \",record[code]['Price'] * quantity)\n",
    "        total += record[code]['Price'] * quantity\n",
    "    else:\n",
    "        print(\"Requested quantity not available\")\n",
    "    flag = int(input(\"Enter 1 to input more product or 0 to print bill\"))\n",
    "Name = input(\"Enter your name \")\n",
    "Age = int(input(\"Enter age\"))\n",
    "payment_mode = input(\"Payment mode ? \")\n",
    "print(\"********************\")\n",
    "print(\"Name: \",Name)\n",
    "print(\"Total billing amount = \",total)\n",
    "print(\"Payment mode: \",payment_mode)\n",
    "print(\"********************\")"
   ]
  },
  {
   "cell_type": "code",
   "execution_count": 48,
   "id": "93f67fc2",
   "metadata": {},
   "outputs": [],
   "source": [
    "sales = {107:{'Name':Name,\"Age\":Age,\"Total\": total,\"Date\":\"03-09-2021\",\n",
    "                   \"Time\":\"1530\",\"Payment Mode\": payment_mode}}"
   ]
  },
  {
   "cell_type": "code",
   "execution_count": 49,
   "id": "ddd2263f",
   "metadata": {},
   "outputs": [
    {
     "data": {
      "text/plain": [
       "{107: {'Name': 'Manu',\n",
       "  'Age': 21,\n",
       "  'Total': 4520,\n",
       "  'Date': '03-09-2021',\n",
       "  'Time': '1530',\n",
       "  'Payment Mode': 'Cash'}}"
      ]
     },
     "execution_count": 49,
     "metadata": {},
     "output_type": "execute_result"
    }
   ],
   "source": [
    "sales\n"
   ]
  },
  {
   "cell_type": "code",
   "execution_count": 50,
   "id": "566995d9",
   "metadata": {},
   "outputs": [],
   "source": [
    "fs = open(\"sales.json\",'a')\n",
    "txt = json.dumps(sales)\n",
    "fs.write(txt)\n",
    "fs.close()"
   ]
  },
  {
   "cell_type": "code",
   "execution_count": 51,
   "id": "d0de2f04",
   "metadata": {},
   "outputs": [
    {
     "data": {
      "text/plain": [
       "'{\"107\": {\"Name\": \"Manu\", \"Age\": 21, \"Total\": 4520, \"Date\": \"03-09-2021\", \"Time\": \"1530\", \"Payment Mode\": \"Cash\"}}'"
      ]
     },
     "execution_count": 51,
     "metadata": {},
     "output_type": "execute_result"
    }
   ],
   "source": [
    "txt"
   ]
  },
  {
   "cell_type": "markdown",
   "id": "d27b0550",
   "metadata": {},
   "source": [
    "## Reducing the purchased quantity from inventory file"
   ]
  },
  {
   "cell_type": "code",
   "execution_count": 52,
   "id": "cddabaf4",
   "metadata": {},
   "outputs": [],
   "source": [
    "fd = open(\"Inventory.json\",'r')\n",
    "txt = fd.read()\n",
    "fd.close()"
   ]
  },
  {
   "cell_type": "code",
   "execution_count": 53,
   "id": "14d12482",
   "metadata": {},
   "outputs": [],
   "source": [
    "record = json.loads(txt)"
   ]
  },
  {
   "cell_type": "code",
   "execution_count": 57,
   "id": "d55278fa",
   "metadata": {},
   "outputs": [
    {
     "data": {
      "text/plain": [
       "23"
      ]
     },
     "execution_count": 57,
     "metadata": {},
     "output_type": "execute_result"
    }
   ],
   "source": [
    "record['1001']['Quantity']"
   ]
  },
  {
   "cell_type": "code",
   "execution_count": 58,
   "id": "1690e145",
   "metadata": {},
   "outputs": [
    {
     "name": "stdout",
     "output_type": "stream",
     "text": [
      "Enter item code 1001\n",
      "Enter quantity 2\n",
      "Total:  110\n"
     ]
    }
   ],
   "source": [
    "code = input(\"Enter item code \")\n",
    "quantity = int(input(\"Enter quantity \"))\n",
    "if (record[code]['Quantity'] >= quantity):\n",
    "    print(\"Total: \",record[code]['Price'] * quantity)\n",
    "    total += record[code]['Price'] * quantity\n",
    "    record[code]['Quantity'] -= quantity    \n",
    "else:\n",
    "    print(\"Requested quantity not available\")"
   ]
  },
  {
   "cell_type": "code",
   "execution_count": 59,
   "id": "0011e9f8",
   "metadata": {},
   "outputs": [
    {
     "data": {
      "text/plain": [
       "21"
      ]
     },
     "execution_count": 59,
     "metadata": {},
     "output_type": "execute_result"
    }
   ],
   "source": [
    "record['1001']['Quantity']"
   ]
  },
  {
   "cell_type": "markdown",
   "id": "5776d78c",
   "metadata": {},
   "source": [
    "## Date and Time"
   ]
  },
  {
   "cell_type": "code",
   "execution_count": 83,
   "id": "f82432b3",
   "metadata": {},
   "outputs": [],
   "source": [
    "import datetime"
   ]
  },
  {
   "cell_type": "code",
   "execution_count": 90,
   "id": "dbf64fb9",
   "metadata": {},
   "outputs": [
    {
     "name": "stdout",
     "output_type": "stream",
     "text": [
      "6-9-2021\n",
      "1720\n"
     ]
    }
   ],
   "source": [
    "date = str(datetime.datetime.now().day)+\"-\"+str(datetime.datetime.now().month)+\"-\"+str(datetime.datetime.now().year)\n",
    "time = str(datetime.datetime.now().hour)+str(datetime.datetime.now().minute)\n",
    "print(date)\n",
    "print(time)"
   ]
  },
  {
   "cell_type": "markdown",
   "id": "72b88ca6",
   "metadata": {},
   "source": [
    "### Filling up sales.json"
   ]
  },
  {
   "cell_type": "code",
   "execution_count": 5,
   "id": "e48d4610",
   "metadata": {},
   "outputs": [],
   "source": [
    "import json\n",
    "import datetime"
   ]
  },
  {
   "cell_type": "code",
   "execution_count": 6,
   "id": "c79099e7",
   "metadata": {},
   "outputs": [
    {
     "name": "stdout",
     "output_type": "stream",
     "text": [
      "114\n"
     ]
    }
   ],
   "source": [
    "# To get the next uid of sales file\n",
    "\n",
    "ft = open(\"sales.json\",'r')\n",
    "temp = ft.read()\n",
    "ft.close()\n",
    "sales = json.loads(temp)\n",
    "keylst = list(sales.keys())\n",
    "sid = int(keylst[-1]) + 1\n",
    "print(sid)"
   ]
  },
  {
   "cell_type": "code",
   "execution_count": 9,
   "id": "4516ba4b",
   "metadata": {},
   "outputs": [
    {
     "ename": "KeyboardInterrupt",
     "evalue": "Interrupted by user",
     "output_type": "error",
     "traceback": [
      "\u001b[1;31m---------------------------------------------------------------------------\u001b[0m",
      "\u001b[1;31mKeyboardInterrupt\u001b[0m                         Traceback (most recent call last)",
      "\u001b[1;32m<ipython-input-9-a07214fb23da>\u001b[0m in \u001b[0;36m<module>\u001b[1;34m\u001b[0m\n\u001b[0;32m      1\u001b[0m \u001b[1;32mfor\u001b[0m \u001b[0mi\u001b[0m \u001b[1;32min\u001b[0m \u001b[0mrange\u001b[0m\u001b[1;33m(\u001b[0m\u001b[1;36m14\u001b[0m\u001b[1;33m,\u001b[0m\u001b[1;36m15\u001b[0m\u001b[1;33m)\u001b[0m\u001b[1;33m:\u001b[0m\u001b[1;33m\u001b[0m\u001b[1;33m\u001b[0m\u001b[0m\n\u001b[1;32m----> 2\u001b[1;33m     \u001b[0mName\u001b[0m \u001b[1;33m=\u001b[0m \u001b[0minput\u001b[0m\u001b[1;33m(\u001b[0m\u001b[1;34m\"Name: \"\u001b[0m\u001b[1;33m)\u001b[0m\u001b[1;33m\u001b[0m\u001b[1;33m\u001b[0m\u001b[0m\n\u001b[0m\u001b[0;32m      3\u001b[0m     \u001b[0mAge\u001b[0m \u001b[1;33m=\u001b[0m \u001b[0mint\u001b[0m\u001b[1;33m(\u001b[0m\u001b[0minput\u001b[0m\u001b[1;33m(\u001b[0m\u001b[1;34m\"Age: \"\u001b[0m\u001b[1;33m)\u001b[0m\u001b[1;33m)\u001b[0m\u001b[1;33m\u001b[0m\u001b[1;33m\u001b[0m\u001b[0m\n\u001b[0;32m      4\u001b[0m     \u001b[0mtotal\u001b[0m \u001b[1;33m=\u001b[0m \u001b[0mint\u001b[0m\u001b[1;33m(\u001b[0m\u001b[0minput\u001b[0m\u001b[1;33m(\u001b[0m\u001b[1;34m\"total: \"\u001b[0m\u001b[1;33m)\u001b[0m\u001b[1;33m)\u001b[0m\u001b[1;33m\u001b[0m\u001b[1;33m\u001b[0m\u001b[0m\n\u001b[0;32m      5\u001b[0m     \u001b[0mpayment_mode\u001b[0m \u001b[1;33m=\u001b[0m \u001b[0minput\u001b[0m\u001b[1;33m(\u001b[0m\u001b[1;34m\"Mode: \"\u001b[0m\u001b[1;33m)\u001b[0m\u001b[1;33m\u001b[0m\u001b[1;33m\u001b[0m\u001b[0m\n",
      "\u001b[1;32m~\\anaconda3\\lib\\site-packages\\ipykernel\\kernelbase.py\u001b[0m in \u001b[0;36mraw_input\u001b[1;34m(self, prompt)\u001b[0m\n\u001b[0;32m    858\u001b[0m                 \u001b[1;34m\"raw_input was called, but this frontend does not support input requests.\"\u001b[0m\u001b[1;33m\u001b[0m\u001b[1;33m\u001b[0m\u001b[0m\n\u001b[0;32m    859\u001b[0m             )\n\u001b[1;32m--> 860\u001b[1;33m         return self._input_request(str(prompt),\n\u001b[0m\u001b[0;32m    861\u001b[0m             \u001b[0mself\u001b[0m\u001b[1;33m.\u001b[0m\u001b[0m_parent_ident\u001b[0m\u001b[1;33m,\u001b[0m\u001b[1;33m\u001b[0m\u001b[1;33m\u001b[0m\u001b[0m\n\u001b[0;32m    862\u001b[0m             \u001b[0mself\u001b[0m\u001b[1;33m.\u001b[0m\u001b[0m_parent_header\u001b[0m\u001b[1;33m,\u001b[0m\u001b[1;33m\u001b[0m\u001b[1;33m\u001b[0m\u001b[0m\n",
      "\u001b[1;32m~\\anaconda3\\lib\\site-packages\\ipykernel\\kernelbase.py\u001b[0m in \u001b[0;36m_input_request\u001b[1;34m(self, prompt, ident, parent, password)\u001b[0m\n\u001b[0;32m    902\u001b[0m             \u001b[1;32mexcept\u001b[0m \u001b[0mKeyboardInterrupt\u001b[0m\u001b[1;33m:\u001b[0m\u001b[1;33m\u001b[0m\u001b[1;33m\u001b[0m\u001b[0m\n\u001b[0;32m    903\u001b[0m                 \u001b[1;31m# re-raise KeyboardInterrupt, to truncate traceback\u001b[0m\u001b[1;33m\u001b[0m\u001b[1;33m\u001b[0m\u001b[1;33m\u001b[0m\u001b[0m\n\u001b[1;32m--> 904\u001b[1;33m                 \u001b[1;32mraise\u001b[0m \u001b[0mKeyboardInterrupt\u001b[0m\u001b[1;33m(\u001b[0m\u001b[1;34m\"Interrupted by user\"\u001b[0m\u001b[1;33m)\u001b[0m \u001b[1;32mfrom\u001b[0m \u001b[1;32mNone\u001b[0m\u001b[1;33m\u001b[0m\u001b[1;33m\u001b[0m\u001b[0m\n\u001b[0m\u001b[0;32m    905\u001b[0m             \u001b[1;32mexcept\u001b[0m \u001b[0mException\u001b[0m \u001b[1;32mas\u001b[0m \u001b[0me\u001b[0m\u001b[1;33m:\u001b[0m\u001b[1;33m\u001b[0m\u001b[1;33m\u001b[0m\u001b[0m\n\u001b[0;32m    906\u001b[0m                 \u001b[0mself\u001b[0m\u001b[1;33m.\u001b[0m\u001b[0mlog\u001b[0m\u001b[1;33m.\u001b[0m\u001b[0mwarning\u001b[0m\u001b[1;33m(\u001b[0m\u001b[1;34m\"Invalid Message:\"\u001b[0m\u001b[1;33m,\u001b[0m \u001b[0mexc_info\u001b[0m\u001b[1;33m=\u001b[0m\u001b[1;32mTrue\u001b[0m\u001b[1;33m)\u001b[0m\u001b[1;33m\u001b[0m\u001b[1;33m\u001b[0m\u001b[0m\n",
      "\u001b[1;31mKeyboardInterrupt\u001b[0m: Interrupted by user"
     ]
    }
   ],
   "source": [
    "for i in range(14,15):\n",
    "    Name = input(\"Name: \")\n",
    "    Age = int(input(\"Age: \"))\n",
    "    total = int(input(\"total: \"))\n",
    "    payment_mode = input(\"Mode: \")\n",
    "    date = str(datetime.datetime.now().day)+\"-\"+str(datetime.datetime.now().month)+\"-\"+str(datetime.datetime.now().year)\n",
    "    time = str(datetime.datetime.now().hour)+\":\"+str(datetime.datetime.now().minute)\n",
    "    sales.update({sid:{'Name':Name,\"Age\":Age,\"Total\":total,\"Date\":date,\n",
    "                   \"Time\":time,\"Payment Mode\": payment_mode}})\n",
    "    sid += 1"
   ]
  },
  {
   "cell_type": "code",
   "execution_count": null,
   "id": "cb912d6d",
   "metadata": {},
   "outputs": [],
   "source": []
  },
  {
   "cell_type": "code",
   "execution_count": 8,
   "id": "d31b157a",
   "metadata": {},
   "outputs": [],
   "source": [
    "#store it in sales.json\n",
    "\n",
    "txt = json.dumps(sales)\n",
    "fs = open(\"sales.json\",'w')\n",
    "fs.write(txt)\n",
    "fs.close()"
   ]
  },
  {
   "cell_type": "code",
   "execution_count": null,
   "id": "082126c3",
   "metadata": {},
   "outputs": [],
   "source": []
  }
 ],
 "metadata": {
  "kernelspec": {
   "display_name": "Python 3",
   "language": "python",
   "name": "python3"
  },
  "language_info": {
   "codemirror_mode": {
    "name": "ipython",
    "version": 3
   },
   "file_extension": ".py",
   "mimetype": "text/x-python",
   "name": "python",
   "nbconvert_exporter": "python",
   "pygments_lexer": "ipython3",
   "version": "3.8.8"
  }
 },
 "nbformat": 4,
 "nbformat_minor": 5
}
